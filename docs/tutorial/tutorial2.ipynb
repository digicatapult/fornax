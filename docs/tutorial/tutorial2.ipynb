{
 "cells": [
  {
   "cell_type": "markdown",
   "metadata": {},
   "source": [
    "# Tutorial"
   ]
  },
  {
   "cell_type": "code",
   "execution_count": 1,
   "metadata": {
    "scrolled": true
   },
   "outputs": [],
   "source": [
    "import os\n",
    "import sys\n",
    "import pandas as pd\n",
    "import json\n",
    "import matplotlib.pyplot as plt\n",
    "import networkx as nx\n",
    "import fornax\n",
    "\n",
    "%matplotlib inline\n",
    "from IPython.core.display import SVG\n",
    "\n",
    "# Add project root dir\n",
    "ROOT_DIR = os.path.abspath(\"../../\")\n",
    "sys.path.append(ROOT_DIR)"
   ]
  },
  {
   "cell_type": "markdown",
   "metadata": {},
   "source": [
    "To install the use the dependencies for this notebook:\n",
    "\n",
    "```bash\n",
    "conda env create -f environment.yml\n",
    "source activate fornax_tutorial\n",
    "```\n",
    "\n",
    "To run this notebook from the project root:\n",
    "\n",
    "```bash\n",
    "cd docs/tutorial\n",
    "jupyter-notebook\n",
    "```"
   ]
  },
  {
   "cell_type": "markdown",
   "metadata": {},
   "source": [
    "In this tutorial we will:\n",
    "\n",
    "* Load a graph of superheros and their teams from csv files\n",
    "\n",
    "* Search for nodes in the graph using a string similarity function\n",
    "\n",
    "* Use fornax to search for nodes using string similarity and fuzzy graph matching\n",
    "\n",
    "The data in this tutorial we be generated using the preceding notebook: `Tutorial1.ipynb`.\n",
    "\n",
    "## Introduction\n",
    "\n",
    "`nodes.csv` and `edges.csv` contain a graph of superheros and their teams along with alternative names for those heros and groups (or aliases).\n",
    "\n",
    "The image below uses the example of Iron Man, who is known as \"Tony\" to his friends.\n",
    "Iron man is a member of the Avengers, a.k.a. Earth's Mightiest Superheros.\n",
    "Other heros are also members of The Avengers, and they will also have aliases.\n",
    "Other heros will also be members of other teams and so and so forth.\n",
    "\n",
    "\n",
    "All of these heros, teams and aliases together make our target graph, a graph which we will search using fornax."
   ]
  },
  {
   "cell_type": "code",
   "execution_count": 2,
   "metadata": {},
   "outputs": [
    {
     "data": {
      "image/svg+xml": [
       "<svg content=\"&lt;mxfile userAgent=&quot;Mozilla/5.0 (Macintosh; Intel Mac OS X 10_14_1) AppleWebKit/605.1.15 (KHTML, like Gecko) Version/12.0.1 Safari/605.1.15&quot; version=&quot;9.4.6&quot; editor=&quot;www.draw.io&quot; type=&quot;google&quot;&gt;&lt;diagram id=&quot;fc1f3b67-3c9b-b1b3-7705-706421d27264&quot; name=&quot;ERD Habit Tracker app&quot;&gt;7Vldb5swFP01aG8T2Hykj23XrXuINCmV1j564RYsERw5bj7262dmm2BMqpaEhE19QfbBvtjn+HCN8fDtYvuNk2U+ZSkUHvLTrYe/eAglKJbXCthpIE4UkHGaKijYAzP6GzToa/SFprCyGgrGCkGXNjhnZQlzYWGEc7axmz2zwn7qkmTgALM5KVz0J01FrtAJSvb4PdAs10+OJljdWBDTVk9klZOUbRoQvvPwLWdMqNJiewtFRZ2hRfX7euBuPS4OpXhLB3SleqxJ8aLn9p2z0kNxIfvf/OKylFWlKekA9RzEzvAig0sJZOVmk1MBsyWZV3c2chFILBeLQtYCWSSrpdLlmW4hrUOtgQvYHpxLUDMkFxawBQi+k010Bxzhz5HqpJcVwoFBNg2ZNPd5QyGDEb0wsjr6njxZ0Px1c4l9h8uHHFzWrtdQZsBXY+czCv1Lshm4bLJyN3bSUGyTFpyXNOSQdke4yD/JxeZPq2dRWAmXw3vgbPTrMW5Ri6KzUosdal16yvS6yi6yVrISbErkLPnuUVZ8U3kylS0Vj6aVLD/psooPqZOLWozJMbAXPgfbOILwDETzNe8y2+At6uDNYBwKIujaHkYXmfoJPxiVA6yFC1ovktCvhTNB1AR0v2a+aoe6skPhyAml5u2E+qtvPfW3SR4OI7kccV9xTb5uiot970Pc94sbjU5cs4GwxEVjEhdPTicuHlLc2BG3SnEde7GCkmETX0pWeVVovNGPyoLB5KJZMOnjGouDN1qoKykeZa74Iy2eyFyT/9Zc2G/xmJzVXO7H+DHmOmigATLXxDVXOKptSYR6mwsnrUURDGguM2zHXKP1TIgu6ZnQPSY4tWcOOqb/N1rYtdO7qF/qOHUyinr7xRyDmgXhWu+EfkGO/g9AFmP2S4vpIMTnc8swhxivWaeDvlN89Iaj+i46Iru0t25hMqRb3BMN5ZZ/f+sWJRe01ZBnCYf3cT2tZdkovKSNItzSzPwne7eJnHOKVqDeFpLV/d841Xz/RxPf/QE=&lt;/diagram&gt;&lt;diagram id=&quot;cdb5e136-1861-7ef1-5e76-c57f7e18aa8d&quot; name=&quot;ERD Data Structure - Habit Tracker App&quot;&gt;7V1dc5s4FP01fmyGb9uPayfe7jTpdprubPsog2zYYOTBSpP0168Ayca+YCs2ApLKk075EALpHh10z5XEwJ6unv9M0Tq8IwGOB5axCVFAngb29cCyDPaPHVqQOCgOmMWBFaLhXoo1WuJ7H8V4L9kc+Q/LlDwm/Opd2n+jQORgmkYpk484Woa0ODNy8xP2zcCepoTQYmv1PMVx9qBRUH6EWc1ZU+Sd4oTKXOAgz0ZDA1nj+dxBAfpg8yx+ovgRlwuyoS+iwDhg5ee7CUnYf5O83DjL1GB7IV3FbNNkmxuKUvpHmuaVfPP1F07JN3KHkhdxbhbFIi1OgsOUf+e5sxOlZP9hSl/uo1/Z7dEjJewQSWlIliRB8S0ha55uQRLKk5lGfruUPOApiUmal8M22M/z2JmihFmxaquRH9qQx9THNXXH07BSLTGtSzPaWplBEZMVpukLuyjFMaLRz/0HQJtid7lNtzMl2+DWlLSs4yq1LEtdaVij2rA85TuyrG11ZVnYZP/Z4HQDrLt5ilYxyq2a1yA/k9WgH0ZxcIteyGNWPGY//0HsTUKSRr9YerRneV7/VlbLC2bCUu0vFtjz/b0r77Mc+b1SvGHXfhEmMA8O3aHnvYS3aEPFU5I4RutNNM+fO7twxSwSJRNCKVnxRKKUs8OHyn7sPIqjZcKO+exeON2iR5D0Ib7sKnwFw/HcMLb4+olTip+PIwwCg18w4i+EF25dnsFT6aXh8SRh6X1hOo4CKFmVUPrrGmIpROtsk5WTRij+in2KkmV2dkLzdprVTowXwnQpf/Jsey7MZZbMUaSdZFUZsXfrH/zwKgqCPNcyxjg1bdbIj5LlbXEX29kd+srvlh0iLMtFnJNPyDLDSU5qFFE038J/TaKE5vXoTtgfq+6pceUOXFbSKds3d/vsL0ue0ilJGCxQlBsZM4w+4QynkyAl62+CJ4yDpubKQqa6jUMMcdCwVigFGttQgBkbYObLp4vxMi836Qrby8JmHyONQeQUCrJilsmEV4RZa3yfJElWJ3NRYYYEKGreOCUU2G2BwAMgmBLkh6qYwzgNgTyz90EbVi1sLuAMV5IzBLc0CpchgMusc84oANMvwqi3/FmE4Z1FGE0gwMX+Yj5e+HjsYGQa1ocRQMBntMKaLc5jCxUEMbLaIwgAj/FpZ/U3pYeLGKG6GXbCCBCNsA/xEc0j+vlxpWmhP7RgGqMOOw4m7DloYmiAGGpaY0+YwWje6JoRmmME25FjBFOF52lKRCw0IzTBCEY1Ck4wghKj21CozPsK3Ynes9mNN50OtOgtJXo7Fu/gcwrxhnIMMrZUgAkqmDmYtOzduexdF1Trhe7tANho4bsd4btosf1Qvm3okRRuq5azWu6lniCLTgVvG+qdXVPF++ylFs2xH36rAzsWmhF6xAiyCrcSF8aB3QfNCCoYwTmvs6BGrICvgTxOjvVorbfhuArKEA6IGL3VieNqwiiZ0lEX2nGVV0xrAmt9cFwtKKdrx1WdbDruj69qwQ6pdlNbD6Ycp4ZO3VRLd0rbYQXrvE6pGqMrGGyjGaE5RujUTbVhZ0EzghJGOK+foEabkFArL5grtkJJUMzsUz1TrH5m2OEcsqJ8l88U4xV1dKqYVTO2poWpYhb0GEPsP0SJFiDehgDhuXwe5ysj59tBOs3iqSZ0zkGlhYjuhYjjEninQoSpI+htChE9CpqbcDK60iE3Ep6HSPs+CMOqxc4lbNGtNgExoyeNCapQOGmsaKv9mDUGIaByfrpmjUZYo9OJZHBSkSaN5kmjuqF2I28uLG88WgRoZDpz5M8rlkfh3sk1ojr00a7QeZwo2p1adogTKI1onmjCD6lsjz2JfFQtW7Fa4aTDiSRaDrtEDrM82bloYyWAgoPBOaC0FNa5FFYnu/dBCrNgxEVLYS2tonTeiHElMHBhZ/VQT2cotUsRK9117cDhPcEkncpkLuzHao+3BZnM7a5fC7xvGJUTMplmj96zR6dyGYzIafJoQS7rbjSgadrzALnI8wzLxqhqab7tnAJNHr0nj1YlNIAd6MRo9miePaqbbD8UNRd2PbgAotX2ZnjDqMXORbwhu4aTGtToaQftjAFyezTtwIbBfE4V3/Az1VTRW6oQtNAJVTg6TNfSQhodhvCB0WGcTvNDm4H7U5QwklQ81cxW0WvCtrSSxnlrwjZidDCKAHYZM42z41Ug31jw/jBUH6BNmM/fqpw7tY3bw5i/FKscj+RbLlcPBKc4spF8U8moseqhpm9nYUjP6OcL6DCWX8agVQU7I/9lt8FpxAyL0/uiVK96o1XzRz8GA4Bng92d1w0G2I+W/x6DA0oQuuytV80ER996IuDbNDKA0lf9qb8Ox7+/Lz6yTvIRL5oSzpEdNqAEWdCtnn0yXwOrw3rUnCPPOdXtvBPKgaCtWd9Wd4IUks7xjvj1cDyRH0D7WhqS9eXVoK0qhPgqd17zUJN9n9OhxdaIyIKvKICL0voh3JJ7LWlvSRKZlUHsweGqJuVlT3ZLjtzsjk5YbaYv37PkV67Y/TEo+ypKvkct28rLpqto1eKY9Fok/A5fMgDvvHlTiD5imYpDSBTl41ftUAEz8vYzckcHGRWVADLK4bUt9pmIkwhL/iaIEx9c6THktvlsQ9relV3+Dc9DoO2MKvPZhsPMK6/8s1XhE4wag/3zd7QoU9YQ8HNEv/Orsu0f+xj/vn1AAfgrt0HI2xWQl11U40Isu6P97+OMx+dhd2i5R/NRCM4KqjxJZLVYFUDgxhdQKAPBhEDYQ7jwD+rBzVPsQG2cDWqe1VF9XR6mRxFY9y2UCxHoCfgLmhs6UhA8DR22mxJCy8lTtA7vSICzFP8D&lt;/diagram&gt;&lt;/mxfile&gt;\" height=\"321px\" version=\"1.1\" viewBox=\"-0.5 -0.5 561 321\" width=\"561px\" xmlns=\"http://www.w3.org/2000/svg\" xmlns:xlink=\"http://www.w3.org/1999/xlink\"><defs/><ellipse cx=\"214\" cy=\"141\" fill=\"#ffffff\" pointer-events=\"none\" rx=\"40\" ry=\"40\" stroke=\"#000000\"/><g transform=\"translate(201.5,127.5)\"><switch><foreignObject height=\"26\" pointer-events=\"all\" requiredFeatures=\"http://www.w3.org/TR/SVG11/feature#Extensibility\" style=\"overflow:visible;\" width=\"23\"><div style=\"display: inline-block; font-size: 12px; font-family: Helvetica; color: rgb(0, 0, 0); line-height: 1.2; vertical-align: top; width: 24px; white-space: nowrap; word-wrap: normal; text-align: center;\" xmlns=\"http://www.w3.org/1999/xhtml\"><div style=\"display:inline-block;text-align:inherit;text-decoration:inherit;\" xmlns=\"http://www.w3.org/1999/xhtml\">Iron<br/>Man<br/></div></div></foreignObject><text fill=\"#000000\" font-family=\"Helvetica\" font-size=\"12px\" text-anchor=\"middle\" x=\"12\" y=\"19\">[Not supported by viewer]</text></switch></g><ellipse cx=\"400\" cy=\"141\" fill=\"#ffffff\" pointer-events=\"none\" rx=\"40\" ry=\"40\" stroke=\"#000000\"/><g transform=\"translate(374.5,127.5)\"><switch><foreignObject height=\"26\" pointer-events=\"all\" requiredFeatures=\"http://www.w3.org/TR/SVG11/feature#Extensibility\" style=\"overflow:visible;\" width=\"50\"><div style=\"display: inline-block; font-size: 12px; font-family: Helvetica; color: rgb(0, 0, 0); line-height: 1.2; vertical-align: top; width: 51px; white-space: nowrap; word-wrap: normal; text-align: center;\" xmlns=\"http://www.w3.org/1999/xhtml\"><div style=\"display:inline-block;text-align:inherit;text-decoration:inherit;\" xmlns=\"http://www.w3.org/1999/xhtml\">The<br/>Avengers<br/></div></div></foreignObject><text fill=\"#000000\" font-family=\"Helvetica\" font-size=\"12px\" text-anchor=\"middle\" x=\"25\" y=\"19\">The&lt;br&gt;Avengers&lt;br&gt;</text></switch></g><ellipse cx=\"120\" cy=\"41\" fill=\"#ffffff\" pointer-events=\"none\" rx=\"40\" ry=\"40\" stroke=\"#000000\"/><g transform=\"translate(107.5,34.5)\"><switch><foreignObject height=\"12\" pointer-events=\"all\" requiredFeatures=\"http://www.w3.org/TR/SVG11/feature#Extensibility\" style=\"overflow:visible;\" width=\"25\"><div style=\"display: inline-block; font-size: 12px; font-family: Helvetica; color: rgb(0, 0, 0); line-height: 1.2; vertical-align: top; width: 26px; white-space: nowrap; word-wrap: normal; text-align: center;\" xmlns=\"http://www.w3.org/1999/xhtml\"><div style=\"display:inline-block;text-align:inherit;text-decoration:inherit;\" xmlns=\"http://www.w3.org/1999/xhtml\">Tony<br/></div></div></foreignObject><text fill=\"#000000\" font-family=\"Helvetica\" font-size=\"12px\" text-anchor=\"middle\" x=\"13\" y=\"12\">Tony&lt;br&gt;</text></switch></g><ellipse cx=\"520\" cy=\"161\" fill=\"#ffffff\" pointer-events=\"none\" rx=\"40\" ry=\"40\" stroke=\"#000000\"/><g transform=\"translate(481.5,140.5)\"><switch><foreignObject height=\"40\" pointer-events=\"all\" requiredFeatures=\"http://www.w3.org/TR/SVG11/feature#Extensibility\" style=\"overflow:visible;\" width=\"76\"><div style=\"display: inline-block; font-size: 12px; font-family: Helvetica; color: rgb(0, 0, 0); line-height: 1.2; vertical-align: top; width: 76px; white-space: normal; word-wrap: normal; text-align: center;\" xmlns=\"http://www.w3.org/1999/xhtml\"><div style=\"display:inline-block;text-align:inherit;text-decoration:inherit;\" xmlns=\"http://www.w3.org/1999/xhtml\">Earth's Mightiest<br/>Heros<br/></div></div></foreignObject><text fill=\"#000000\" font-family=\"Helvetica\" font-size=\"12px\" text-anchor=\"middle\" x=\"38\" y=\"26\">Earth's Mightiest&lt;br&gt;Heros&lt;br&gt;</text></switch></g><path d=\"M 148 69 L 185 112\" fill=\"none\" pointer-events=\"none\" stroke=\"#000000\" stroke-miterlimit=\"10\"/><path d=\"M 253.5 140.5 L 360 141\" fill=\"none\" pointer-events=\"none\" stroke=\"#000000\" stroke-miterlimit=\"10\"/><path d=\"M 438.81 150.2 L 480 161\" fill=\"none\" pointer-events=\"none\" stroke=\"#000000\" stroke-miterlimit=\"10\"/><ellipse cx=\"40\" cy=\"161\" fill=\"#ffffff\" pointer-events=\"none\" rx=\"40\" ry=\"40\" stroke=\"#000000\" stroke-dasharray=\"3 3\"/><g transform=\"translate(26.5,147.5)\"><switch><foreignObject height=\"26\" pointer-events=\"all\" requiredFeatures=\"http://www.w3.org/TR/SVG11/feature#Extensibility\" style=\"overflow:visible;\" width=\"26\"><div style=\"display: inline-block; font-size: 12px; font-family: Helvetica; color: rgb(0, 0, 0); line-height: 1.2; vertical-align: top; width: 27px; white-space: nowrap; word-wrap: normal; text-align: center;\" xmlns=\"http://www.w3.org/1999/xhtml\"><div style=\"display:inline-block;text-align:inherit;text-decoration:inherit;\" xmlns=\"http://www.w3.org/1999/xhtml\">Hero<br/>Alias<br/></div></div></foreignObject><text fill=\"#000000\" font-family=\"Helvetica\" font-size=\"12px\" text-anchor=\"middle\" x=\"13\" y=\"19\">[Not supported by viewer]</text></switch></g><path d=\"M 80 161 L 174 141\" fill=\"none\" pointer-events=\"none\" stroke=\"#000000\" stroke-dasharray=\"3 3\" stroke-miterlimit=\"10\"/><ellipse cx=\"160\" cy=\"281\" fill=\"#ffffff\" pointer-events=\"none\" rx=\"40\" ry=\"40\" stroke=\"#000000\" stroke-dasharray=\"3 3\"/><g transform=\"translate(146.5,267.5)\"><switch><foreignObject height=\"26\" pointer-events=\"all\" requiredFeatures=\"http://www.w3.org/TR/SVG11/feature#Extensibility\" style=\"overflow:visible;\" width=\"26\"><div style=\"display: inline-block; font-size: 12px; font-family: Helvetica; color: rgb(0, 0, 0); line-height: 1.2; vertical-align: top; width: 27px; white-space: nowrap; word-wrap: normal; text-align: center;\" xmlns=\"http://www.w3.org/1999/xhtml\"><div style=\"display:inline-block;text-align:inherit;text-decoration:inherit;\" xmlns=\"http://www.w3.org/1999/xhtml\">Hero<br/>Alias<br/></div></div></foreignObject><text fill=\"#000000\" font-family=\"Helvetica\" font-size=\"12px\" text-anchor=\"middle\" x=\"13\" y=\"19\">[Not supported by viewer]</text></switch></g><path d=\"M 200 281 L 240 281\" fill=\"none\" pointer-events=\"none\" stroke=\"#000000\" stroke-dasharray=\"3 3\" stroke-miterlimit=\"10\"/><ellipse cx=\"280\" cy=\"281\" fill=\"#ffffff\" pointer-events=\"none\" rx=\"40\" ry=\"40\" stroke=\"#000000\" stroke-dasharray=\"3 3\"/><g transform=\"translate(266.5,274.5)\"><switch><foreignObject height=\"12\" pointer-events=\"all\" requiredFeatures=\"http://www.w3.org/TR/SVG11/feature#Extensibility\" style=\"overflow:visible;\" width=\"26\"><div style=\"display: inline-block; font-size: 12px; font-family: Helvetica; color: rgb(0, 0, 0); line-height: 1.2; vertical-align: top; width: 27px; white-space: nowrap; word-wrap: normal; text-align: center;\" xmlns=\"http://www.w3.org/1999/xhtml\"><div style=\"display:inline-block;text-align:inherit;text-decoration:inherit;\" xmlns=\"http://www.w3.org/1999/xhtml\">Hero</div></div></foreignObject><text fill=\"#000000\" font-family=\"Helvetica\" font-size=\"12px\" text-anchor=\"middle\" x=\"13\" y=\"12\">Hero</text></switch></g><path d=\"M 308 252 L 372 169\" fill=\"none\" pointer-events=\"none\" stroke=\"#000000\" stroke-dasharray=\"3 3\" stroke-miterlimit=\"10\"/><ellipse cx=\"310\" cy=\"52\" fill=\"#ffffff\" pointer-events=\"none\" rx=\"40\" ry=\"40\" stroke=\"#000000\" stroke-dasharray=\"3 3\"/><g transform=\"translate(295.5,45.5)\"><switch><foreignObject height=\"12\" pointer-events=\"all\" requiredFeatures=\"http://www.w3.org/TR/SVG11/feature#Extensibility\" style=\"overflow:visible;\" width=\"29\"><div style=\"display: inline-block; font-size: 12px; font-family: Helvetica; color: rgb(0, 0, 0); line-height: 1.2; vertical-align: top; width: 30px; white-space: nowrap; word-wrap: normal; text-align: center;\" xmlns=\"http://www.w3.org/1999/xhtml\"><div style=\"display:inline-block;text-align:inherit;text-decoration:inherit;\" xmlns=\"http://www.w3.org/1999/xhtml\">Team</div></div></foreignObject><text fill=\"#000000\" font-family=\"Helvetica\" font-size=\"12px\" text-anchor=\"middle\" x=\"15\" y=\"12\">Team</text></switch></g><path d=\"M 242 112 L 282 80\" fill=\"none\" pointer-events=\"none\" stroke=\"#000000\" stroke-dasharray=\"3 3\" stroke-miterlimit=\"10\"/><ellipse cx=\"430\" cy=\"52\" fill=\"#ffffff\" pointer-events=\"none\" rx=\"40\" ry=\"40\" stroke=\"#000000\" stroke-dasharray=\"3 3\"/><g transform=\"translate(415.5,38.5)\"><switch><foreignObject height=\"26\" pointer-events=\"all\" requiredFeatures=\"http://www.w3.org/TR/SVG11/feature#Extensibility\" style=\"overflow:visible;\" width=\"29\"><div style=\"display: inline-block; font-size: 12px; font-family: Helvetica; color: rgb(0, 0, 0); line-height: 1.2; vertical-align: top; width: 30px; white-space: nowrap; word-wrap: normal; text-align: center;\" xmlns=\"http://www.w3.org/1999/xhtml\"><div style=\"display:inline-block;text-align:inherit;text-decoration:inherit;\" xmlns=\"http://www.w3.org/1999/xhtml\">Team<br/>Alias<br/></div></div></foreignObject><text fill=\"#000000\" font-family=\"Helvetica\" font-size=\"12px\" text-anchor=\"middle\" x=\"15\" y=\"19\">[Not supported by viewer]</text></switch></g><path d=\"M 350 52 L 390 52\" fill=\"none\" pointer-events=\"none\" stroke=\"#000000\" stroke-dasharray=\"3 3\" stroke-miterlimit=\"10\"/></svg>"
      ],
      "text/plain": [
       "<IPython.core.display.SVG object>"
      ]
     },
     "execution_count": 2,
     "metadata": {},
     "output_type": "execute_result"
    }
   ],
   "source": [
    "SVG('../img/iron_man.svg')"
   ]
  },
  {
   "cell_type": "markdown",
   "metadata": {},
   "source": [
    "Let's load the data into the notebook using pandas."
   ]
  },
  {
   "cell_type": "code",
   "execution_count": 3,
   "metadata": {},
   "outputs": [],
   "source": [
    "# used for converting csv values in nodes.csv\n",
    "mapping = {\n",
    "    '0': 'hero',\n",
    "    '1': 'team', \n",
    "    '2': 'hero_alias', \n",
    "    '3': 'team_alias'\n",
    "}\n",
    "\n",
    "nodes_df = pd.read_csv(\n",
    "    './nodes.csv', \n",
    "    # rename the columns as targets as this will form the target graph\n",
    "    # (the graph which we will be searching)\n",
    "    names=['target_label', 'target_type', 'target_id'],\n",
    "    # ignore the header\n",
    "    header=0,\n",
    "    converters = {\n",
    "        # convert target_type from numeric values to\n",
    "        # literal string representations for ease of reading\n",
    "        'target_type': lambda key: mapping.get(key)\n",
    "    }\n",
    ")\n",
    "\n",
    "# contains pairs of target node ids\n",
    "edges_df = pd.read_csv('./edges.csv')"
   ]
  },
  {
   "cell_type": "markdown",
   "metadata": {},
   "source": [
    "We can see that the target nodes have a label (the hero's primary name).\n",
    "The target_type column will be one of `hero`, `team`, `hero alias`, `team alias`, the four types of nodes in the graph.\n",
    "\n",
    "(Note that by hero we mean a person in a comic book who has superpowers regardless of them being good or bad)"
   ]
  },
  {
   "cell_type": "code",
   "execution_count": 4,
   "metadata": {},
   "outputs": [
    {
     "data": {
      "text/plain": [
       "0         Selene\n",
       "1    Doctor Doom\n",
       "2          Viper\n",
       "3            Sin\n",
       "4    David North\n",
       "Name: target_label, dtype: object"
      ]
     },
     "execution_count": 4,
     "metadata": {},
     "output_type": "execute_result"
    }
   ],
   "source": [
    "nodes_df['target_label'].head()"
   ]
  },
  {
   "cell_type": "markdown",
   "metadata": {},
   "source": [
    "Edges are pairs of `target_id` values.\n",
    "Note that fornax deals with undirected graphs so there is no need to add the edge in the reverse direction.\n",
    "Doing so will cause an exception as the edge will be considered a duplicate."
   ]
  },
  {
   "cell_type": "code",
   "execution_count": 5,
   "metadata": {},
   "outputs": [
    {
     "data": {
      "text/html": [
       "<div>\n",
       "<style scoped>\n",
       "    .dataframe tbody tr th:only-of-type {\n",
       "        vertical-align: middle;\n",
       "    }\n",
       "\n",
       "    .dataframe tbody tr th {\n",
       "        vertical-align: top;\n",
       "    }\n",
       "\n",
       "    .dataframe thead th {\n",
       "        text-align: right;\n",
       "    }\n",
       "</style>\n",
       "<table border=\"1\" class=\"dataframe\">\n",
       "  <thead>\n",
       "    <tr style=\"text-align: right;\">\n",
       "      <th></th>\n",
       "      <th>end</th>\n",
       "      <th>start</th>\n",
       "    </tr>\n",
       "  </thead>\n",
       "  <tbody>\n",
       "    <tr>\n",
       "      <th>0</th>\n",
       "      <td>839851079</td>\n",
       "      <td>87770955</td>\n",
       "    </tr>\n",
       "    <tr>\n",
       "      <th>1</th>\n",
       "      <td>685373387</td>\n",
       "      <td>2073821878</td>\n",
       "    </tr>\n",
       "    <tr>\n",
       "      <th>2</th>\n",
       "      <td>1988120854</td>\n",
       "      <td>396175249</td>\n",
       "    </tr>\n",
       "    <tr>\n",
       "      <th>3</th>\n",
       "      <td>608208951</td>\n",
       "      <td>396175249</td>\n",
       "    </tr>\n",
       "    <tr>\n",
       "      <th>4</th>\n",
       "      <td>1988120854</td>\n",
       "      <td>2062678112</td>\n",
       "    </tr>\n",
       "  </tbody>\n",
       "</table>\n",
       "</div>"
      ],
      "text/plain": [
       "          end       start\n",
       "0   839851079    87770955\n",
       "1   685373387  2073821878\n",
       "2  1988120854   396175249\n",
       "3   608208951   396175249\n",
       "4  1988120854  2062678112"
      ]
     },
     "execution_count": 5,
     "metadata": {},
     "output_type": "execute_result"
    }
   ],
   "source": [
    "edges_df.head()"
   ]
  },
  {
   "cell_type": "markdown",
   "metadata": {},
   "source": [
    "## Label similarity\n",
    "\n",
    "For some motivation, before using fornax, let us search for nodes just using their labels.\n",
    "Let's search for nodes similar to `guardians`, `star` and `groot`.\n",
    "\n",
    "We will create a function that given a pair of labels, it will return a score where:\n",
    "\n",
    "$$0 <= score <= 1$$\n",
    "\n",
    "Secondly we'll create a search function that returns rows from our table of target nodes that have a non zero similarity score."
   ]
  },
  {
   "cell_type": "code",
   "execution_count": 6,
   "metadata": {},
   "outputs": [],
   "source": [
    "def node_scoring_function(first: str, second: str):\n",
    "    \"\"\" node scoring function takes two strings and returns a \n",
    "        score in the range 0 <= score <= 1\n",
    "    \"\"\"\n",
    "    first_, second_ = sorted((first.lower(), second.lower()), key=len)\n",
    "    # if first is not a substring of second: score = 0\n",
    "    if not first_ in second_:\n",
    "        return 0\n",
    "    # otherwise use the relative difference between\n",
    "    # the two lengths\n",
    "    score = len(second_) - len(first_)\n",
    "    score /= max(len(first_), len(second_))\n",
    "    score = 1. - score\n",
    "    return score"
   ]
  },
  {
   "cell_type": "code",
   "execution_count": 7,
   "metadata": {},
   "outputs": [],
   "source": [
    "def search(query_id: int, query_label: str):\n",
    "    # compute all of the scores\n",
    "    scores = nodes_df['target_label'].apply(\n",
    "        node_scoring_function, \n",
    "        args=(query_label,)\n",
    "    )\n",
    "    # create a boolean mask\n",
    "    mask = scores > 0\n",
    "    # graph the non zero scoring nodes\n",
    "    matches = nodes_df[mask].copy()\n",
    "    # add extra columns\n",
    "    matches['score'] = scores[mask]\n",
    "    matches['query_label'] = query_label\n",
    "    matches['query_id'] = query_id\n",
    "    return matches"
   ]
  },
  {
   "cell_type": "markdown",
   "metadata": {},
   "source": [
    "### Aside:\n",
    "Note that these string search functions are not terribly efficient.\n",
    "They involve repeated full scans of the target nodes table.\n",
    "If we were searching a larger graph we could use a search tree as an index, an external sting matching service or database. However, since this is a tutorial, the above functions are simpler and more reproducible.\n",
    "This is important as we will be using these search results with fornax."
   ]
  },
  {
   "cell_type": "code",
   "execution_count": 8,
   "metadata": {},
   "outputs": [],
   "source": [
    "query_labels = ['guardians', 'star', 'groot']"
   ]
  },
  {
   "cell_type": "markdown",
   "metadata": {},
   "source": [
    "Examining the table below we can see that we have a conundrum.\n",
    "There are 22 nodes with varying similarity to `star` and 4 nodes similar to `galaxy`."
   ]
  },
  {
   "cell_type": "code",
   "execution_count": 9,
   "metadata": {},
   "outputs": [
    {
     "data": {
      "text/html": [
       "<div>\n",
       "<style scoped>\n",
       "    .dataframe tbody tr th:only-of-type {\n",
       "        vertical-align: middle;\n",
       "    }\n",
       "\n",
       "    .dataframe tbody tr th {\n",
       "        vertical-align: top;\n",
       "    }\n",
       "\n",
       "    .dataframe thead th {\n",
       "        text-align: right;\n",
       "    }\n",
       "</style>\n",
       "<table border=\"1\" class=\"dataframe\">\n",
       "  <thead>\n",
       "    <tr style=\"text-align: right;\">\n",
       "      <th></th>\n",
       "      <th>target_label</th>\n",
       "      <th>target_type</th>\n",
       "      <th>target_id</th>\n",
       "      <th>score</th>\n",
       "      <th>query_label</th>\n",
       "      <th>query_id</th>\n",
       "    </tr>\n",
       "  </thead>\n",
       "  <tbody>\n",
       "    <tr>\n",
       "      <th>285</th>\n",
       "      <td>Guardian</td>\n",
       "      <td>hero</td>\n",
       "      <td>1081675</td>\n",
       "      <td>0.888889</td>\n",
       "      <td>guardians</td>\n",
       "      <td>0</td>\n",
       "    </tr>\n",
       "    <tr>\n",
       "      <th>427</th>\n",
       "      <td>Guardians of the Galaxy</td>\n",
       "      <td>team</td>\n",
       "      <td>870807271</td>\n",
       "      <td>0.391304</td>\n",
       "      <td>guardians</td>\n",
       "      <td>0</td>\n",
       "    </tr>\n",
       "    <tr>\n",
       "      <th>507</th>\n",
       "      <td>Guardians of the Galaxy (1969 team)</td>\n",
       "      <td>team</td>\n",
       "      <td>1295400389</td>\n",
       "      <td>0.257143</td>\n",
       "      <td>guardians</td>\n",
       "      <td>0</td>\n",
       "    </tr>\n",
       "    <tr>\n",
       "      <th>1019</th>\n",
       "      <td>Guardian</td>\n",
       "      <td>hero_alias</td>\n",
       "      <td>2062791326</td>\n",
       "      <td>0.888889</td>\n",
       "      <td>guardians</td>\n",
       "      <td>0</td>\n",
       "    </tr>\n",
       "    <tr>\n",
       "      <th>10</th>\n",
       "      <td>Danielle Moonstar</td>\n",
       "      <td>hero</td>\n",
       "      <td>2083850919</td>\n",
       "      <td>0.235294</td>\n",
       "      <td>star</td>\n",
       "      <td>1</td>\n",
       "    </tr>\n",
       "    <tr>\n",
       "      <th>25</th>\n",
       "      <td>Darkstar</td>\n",
       "      <td>hero</td>\n",
       "      <td>1276753309</td>\n",
       "      <td>0.500000</td>\n",
       "      <td>star</td>\n",
       "      <td>1</td>\n",
       "    </tr>\n",
       "    <tr>\n",
       "      <th>71</th>\n",
       "      <td>Firestar</td>\n",
       "      <td>hero</td>\n",
       "      <td>274821742</td>\n",
       "      <td>0.500000</td>\n",
       "      <td>star</td>\n",
       "      <td>1</td>\n",
       "    </tr>\n",
       "    <tr>\n",
       "      <th>121</th>\n",
       "      <td>Star-Lord</td>\n",
       "      <td>hero</td>\n",
       "      <td>1061867605</td>\n",
       "      <td>0.444444</td>\n",
       "      <td>star</td>\n",
       "      <td>1</td>\n",
       "    </tr>\n",
       "    <tr>\n",
       "      <th>189</th>\n",
       "      <td>Northstar</td>\n",
       "      <td>hero</td>\n",
       "      <td>1260880284</td>\n",
       "      <td>0.444444</td>\n",
       "      <td>star</td>\n",
       "      <td>1</td>\n",
       "    </tr>\n",
       "    <tr>\n",
       "      <th>292</th>\n",
       "      <td>Starfox</td>\n",
       "      <td>hero</td>\n",
       "      <td>1594294259</td>\n",
       "      <td>0.571429</td>\n",
       "      <td>star</td>\n",
       "      <td>1</td>\n",
       "    </tr>\n",
       "    <tr>\n",
       "      <th>323</th>\n",
       "      <td>Ultimate Firestar</td>\n",
       "      <td>hero</td>\n",
       "      <td>1718026772</td>\n",
       "      <td>0.235294</td>\n",
       "      <td>star</td>\n",
       "      <td>1</td>\n",
       "    </tr>\n",
       "    <tr>\n",
       "      <th>338</th>\n",
       "      <td>Shatterstar</td>\n",
       "      <td>hero</td>\n",
       "      <td>1241925506</td>\n",
       "      <td>0.363636</td>\n",
       "      <td>star</td>\n",
       "      <td>1</td>\n",
       "    </tr>\n",
       "    <tr>\n",
       "      <th>401</th>\n",
       "      <td>Upstarts</td>\n",
       "      <td>team</td>\n",
       "      <td>839851079</td>\n",
       "      <td>0.500000</td>\n",
       "      <td>star</td>\n",
       "      <td>1</td>\n",
       "    </tr>\n",
       "    <tr>\n",
       "      <th>443</th>\n",
       "      <td>Starjammers</td>\n",
       "      <td>team</td>\n",
       "      <td>895117495</td>\n",
       "      <td>0.363636</td>\n",
       "      <td>star</td>\n",
       "      <td>1</td>\n",
       "    </tr>\n",
       "    <tr>\n",
       "      <th>474</th>\n",
       "      <td>Starforce</td>\n",
       "      <td>team</td>\n",
       "      <td>1605941117</td>\n",
       "      <td>0.444444</td>\n",
       "      <td>star</td>\n",
       "      <td>1</td>\n",
       "    </tr>\n",
       "    <tr>\n",
       "      <th>536</th>\n",
       "      <td>James Proudstar</td>\n",
       "      <td>hero_alias</td>\n",
       "      <td>268149375</td>\n",
       "      <td>0.266667</td>\n",
       "      <td>star</td>\n",
       "      <td>1</td>\n",
       "    </tr>\n",
       "    <tr>\n",
       "      <th>587</th>\n",
       "      <td>John Proudstar</td>\n",
       "      <td>hero_alias</td>\n",
       "      <td>880197081</td>\n",
       "      <td>0.285714</td>\n",
       "      <td>star</td>\n",
       "      <td>1</td>\n",
       "    </tr>\n",
       "    <tr>\n",
       "      <th>604</th>\n",
       "      <td>Anthony \"Tony\" Edward Carbonell Stark</td>\n",
       "      <td>hero_alias</td>\n",
       "      <td>2007806013</td>\n",
       "      <td>0.108108</td>\n",
       "      <td>star</td>\n",
       "      <td>1</td>\n",
       "    </tr>\n",
       "    <tr>\n",
       "      <th>661</th>\n",
       "      <td>Moonstar</td>\n",
       "      <td>hero_alias</td>\n",
       "      <td>294373473</td>\n",
       "      <td>0.444444</td>\n",
       "      <td>star</td>\n",
       "      <td>1</td>\n",
       "    </tr>\n",
       "    <tr>\n",
       "      <th>750</th>\n",
       "      <td>Star-Lord</td>\n",
       "      <td>hero_alias</td>\n",
       "      <td>92571479</td>\n",
       "      <td>0.400000</td>\n",
       "      <td>star</td>\n",
       "      <td>1</td>\n",
       "    </tr>\n",
       "    <tr>\n",
       "      <th>831</th>\n",
       "      <td>Starlord</td>\n",
       "      <td>hero_alias</td>\n",
       "      <td>1788314407</td>\n",
       "      <td>0.444444</td>\n",
       "      <td>star</td>\n",
       "      <td>1</td>\n",
       "    </tr>\n",
       "    <tr>\n",
       "      <th>832</th>\n",
       "      <td>Star Lord</td>\n",
       "      <td>hero_alias</td>\n",
       "      <td>925434646</td>\n",
       "      <td>0.400000</td>\n",
       "      <td>star</td>\n",
       "      <td>1</td>\n",
       "    </tr>\n",
       "    <tr>\n",
       "      <th>1010</th>\n",
       "      <td>Anthony Edward \"Tony\" Stark</td>\n",
       "      <td>hero_alias</td>\n",
       "      <td>2138996395</td>\n",
       "      <td>0.142857</td>\n",
       "      <td>star</td>\n",
       "      <td>1</td>\n",
       "    </tr>\n",
       "    <tr>\n",
       "      <th>1011</th>\n",
       "      <td>Tony Stark</td>\n",
       "      <td>hero_alias</td>\n",
       "      <td>182299133</td>\n",
       "      <td>0.363636</td>\n",
       "      <td>star</td>\n",
       "      <td>1</td>\n",
       "    </tr>\n",
       "    <tr>\n",
       "      <th>1014</th>\n",
       "      <td>The Star Spangled Man With A Plan</td>\n",
       "      <td>hero_alias</td>\n",
       "      <td>1915573563</td>\n",
       "      <td>0.117647</td>\n",
       "      <td>star</td>\n",
       "      <td>1</td>\n",
       "    </tr>\n",
       "    <tr>\n",
       "      <th>1069</th>\n",
       "      <td>Firestar</td>\n",
       "      <td>hero_alias</td>\n",
       "      <td>1580065367</td>\n",
       "      <td>0.444444</td>\n",
       "      <td>star</td>\n",
       "      <td>1</td>\n",
       "    </tr>\n",
       "    <tr>\n",
       "      <th>120</th>\n",
       "      <td>Groot</td>\n",
       "      <td>hero</td>\n",
       "      <td>74671434</td>\n",
       "      <td>1.000000</td>\n",
       "      <td>groot</td>\n",
       "      <td>2</td>\n",
       "    </tr>\n",
       "  </tbody>\n",
       "</table>\n",
       "</div>"
      ],
      "text/plain": [
       "                               target_label target_type   target_id     score  \\\n",
       "285                                Guardian        hero     1081675  0.888889   \n",
       "427                 Guardians of the Galaxy        team   870807271  0.391304   \n",
       "507     Guardians of the Galaxy (1969 team)        team  1295400389  0.257143   \n",
       "1019                               Guardian  hero_alias  2062791326  0.888889   \n",
       "10                        Danielle Moonstar        hero  2083850919  0.235294   \n",
       "25                                 Darkstar        hero  1276753309  0.500000   \n",
       "71                                 Firestar        hero   274821742  0.500000   \n",
       "121                               Star-Lord        hero  1061867605  0.444444   \n",
       "189                               Northstar        hero  1260880284  0.444444   \n",
       "292                                 Starfox        hero  1594294259  0.571429   \n",
       "323                       Ultimate Firestar        hero  1718026772  0.235294   \n",
       "338                             Shatterstar        hero  1241925506  0.363636   \n",
       "401                                Upstarts        team   839851079  0.500000   \n",
       "443                             Starjammers        team   895117495  0.363636   \n",
       "474                               Starforce        team  1605941117  0.444444   \n",
       "536                         James Proudstar  hero_alias   268149375  0.266667   \n",
       "587                          John Proudstar  hero_alias   880197081  0.285714   \n",
       "604   Anthony \"Tony\" Edward Carbonell Stark  hero_alias  2007806013  0.108108   \n",
       "661                                Moonstar  hero_alias   294373473  0.444444   \n",
       "750                               Star-Lord  hero_alias    92571479  0.400000   \n",
       "831                                Starlord  hero_alias  1788314407  0.444444   \n",
       "832                               Star Lord  hero_alias   925434646  0.400000   \n",
       "1010            Anthony Edward \"Tony\" Stark  hero_alias  2138996395  0.142857   \n",
       "1011                             Tony Stark  hero_alias   182299133  0.363636   \n",
       "1014      The Star Spangled Man With A Plan  hero_alias  1915573563  0.117647   \n",
       "1069                               Firestar  hero_alias  1580065367  0.444444   \n",
       "120                                   Groot        hero    74671434  1.000000   \n",
       "\n",
       "     query_label  query_id  \n",
       "285    guardians         0  \n",
       "427    guardians         0  \n",
       "507    guardians         0  \n",
       "1019   guardians         0  \n",
       "10          star         1  \n",
       "25          star         1  \n",
       "71          star         1  \n",
       "121         star         1  \n",
       "189         star         1  \n",
       "292         star         1  \n",
       "323         star         1  \n",
       "338         star         1  \n",
       "401         star         1  \n",
       "443         star         1  \n",
       "474         star         1  \n",
       "536         star         1  \n",
       "587         star         1  \n",
       "604         star         1  \n",
       "661         star         1  \n",
       "750         star         1  \n",
       "831         star         1  \n",
       "832         star         1  \n",
       "1010        star         1  \n",
       "1011        star         1  \n",
       "1014        star         1  \n",
       "1069        star         1  \n",
       "120        groot         2  "
      ]
     },
     "execution_count": 9,
     "metadata": {},
     "output_type": "execute_result"
    }
   ],
   "source": [
    "# find the nodes similar to 'guardians', 'star' and 'groot'\n",
    "matches = pd.concat(search(id_, label) for id_, label in enumerate(query_labels))\n",
    "matches"
   ]
  },
  {
   "cell_type": "markdown",
   "metadata": {},
   "source": [
    "Fornax enables a more powerful type of search. \n",
    "By specifying 'guardians', 'star', 'groot' as nodes in a graph, \n",
    "and by specifying the relationships between them, \n",
    "we can search for nodes in our target graph with the same relationships."
   ]
  },
  {
   "cell_type": "markdown",
   "metadata": {},
   "source": [
    "## Creating a target graph\n",
    "\n",
    "Fornax behaves much like a database. In fact it uses SQLite or Postgresql to store graph data and index it.\n",
    "To insert a new graph into fornax we can use the following three steps:\n",
    "1. create a new graph\n",
    "2. add nodes and node meta data\n",
    "3. add edges and edge meta data\n",
    "\n",
    "The object `fornax.GraphHandle` is much like a file handle. It does not represent the graph but it is an accessor to it.\n",
    "If the `GraphHandle` goes out of scope the graph will still persist until it is explicitly deleted, much like a file."
   ]
  },
  {
   "cell_type": "code",
   "execution_count": 10,
   "metadata": {},
   "outputs": [],
   "source": [
    "with fornax.Connection('sqlite:///mydb.sqlite') as conn:\n",
    "    target_graph = fornax.GraphHandle.create(conn)\n",
    "    target_graph.add_nodes(\n",
    "        # use id_src to set a custom id on each node \n",
    "        id_src=nodes_df['target_id'],\n",
    "        # use other keyword arguments to attach arbitrary metadata to each node\n",
    "        label=nodes_df['target_label'],\n",
    "        # the type keyword is reserved to we use target_type\n",
    "        target_type=nodes_df['target_type']\n",
    "        # meta data must be json serialisable\n",
    "    )\n",
    "    target_graph.add_edges(edges_df['start'], edges_df['end'])"
   ]
  },
  {
   "cell_type": "markdown",
   "metadata": {},
   "source": [
    "We can use the `graph_id` to access our graph in the future."
   ]
  },
  {
   "cell_type": "code",
   "execution_count": 11,
   "metadata": {},
   "outputs": [
    {
     "name": "stdout",
     "output_type": "stream",
     "text": [
      "True\n"
     ]
    }
   ],
   "source": [
    "with fornax.Connection('sqlite:///mydb.sqlite') as conn:\n",
    "    target_graph.graph_id\n",
    "    another_target_graph_handle = fornax.GraphHandle.read(conn, target_graph.graph_id)\n",
    "    print(another_target_graph_handle == target_graph)"
   ]
  },
  {
   "cell_type": "markdown",
   "metadata": {},
   "source": [
    "## Creating a query graph\n",
    "\n",
    "Let's imagine that we suspect `groot` is directly related to `guardians` and `star` is also directly related to `guardians`.\n",
    "For example `groot` and `star` could both be members of a team called `guardians`.\n",
    "Let's create another small graph that represents this situation:"
   ]
  },
  {
   "cell_type": "code",
   "execution_count": 12,
   "metadata": {},
   "outputs": [],
   "source": [
    "with fornax.Connection('sqlite:///mydb.sqlite') as conn:\n",
    "    # create a new graph\n",
    "    query_graph = fornax.GraphHandle.create(conn)\n",
    "\n",
    "    # insert the three nodes: \n",
    "    #   'guardians' (id=0), 'star' (id=1), 'groot' (id=2)\n",
    "    query_graph.add_nodes(label=query_labels)\n",
    "\n",
    "    # alternatively:\n",
    "    #    query_graph.add_nodes(id_src=query_labels)\n",
    "    # since id_src can use any unique hashable items\n",
    "\n",
    "    edges = [\n",
    "        (0, 1), # edge between groot and guardians\n",
    "        (0, 2)  # edge between star and guardians\n",
    "    ]\n",
    "\n",
    "    sources, targets = zip(*edges)\n",
    "    query_graph.add_edges(sources, targets)"
   ]
  },
  {
   "cell_type": "markdown",
   "metadata": {},
   "source": [
    "## Search\n",
    "\n",
    "We can create a query in an analogous way to creating graphs using a `QueryHandle`,\n",
    "a handle to a query stored in the fornax database.\n",
    "To create a useful query we need to insert the string similarity scores we computed in part 1.\n",
    "Fornax will use these scores and the graph edges to execute the query."
   ]
  },
  {
   "cell_type": "code",
   "execution_count": 13,
   "metadata": {},
   "outputs": [],
   "source": [
    "with fornax.Connection('sqlite:///mydb.sqlite') as conn:\n",
    "    query = fornax.QueryHandle.create(conn, query_graph, target_graph)\n",
    "    query.add_matches(matches['query_id'], matches['target_id'], matches['score'])"
   ]
  },
  {
   "cell_type": "markdown",
   "metadata": {},
   "source": [
    "Finally we can execute the query using a variety of options.\n",
    "We specify we want the top 5 best matches between the query graph and the target graph."
   ]
  },
  {
   "cell_type": "code",
   "execution_count": 14,
   "metadata": {},
   "outputs": [
    {
     "name": "stdout",
     "output_type": "stream",
     "text": [
      "CPU times: user 69.4 ms, sys: 2.35 ms, total: 71.8 ms\n",
      "Wall time: 74.1 ms\n"
     ]
    },
    {
     "name": "stderr",
     "output_type": "stream",
     "text": [
      "/Users/dstaff/anaconda3/envs/fornax/lib/python3.6/site-packages/numpy/core/records.py:513: FutureWarning: Numpy has detected that you may be viewing or writing to an array returned by selecting multiple fields in a structured array. \n",
      "\n",
      "This code may break in numpy 1.15 because this will return a view instead of a copy -- see release notes for details.\n",
      "  return obj.view(dtype=(self.dtype.type, obj.dtype))\n"
     ]
    }
   ],
   "source": [
    "with fornax.Connection('sqlite:///mydb.sqlite') as conn:\n",
    "    %time results = query.execute(n=5)"
   ]
  },
  {
   "cell_type": "markdown",
   "metadata": {},
   "source": [
    "## Visualise\n",
    "\n",
    "`query.execute` returns an object describing the search result.\n",
    "Of primary interest is the `graph` field which contains a list of graphs in `node_link_graph` format.\n",
    "We can use networkx to draw these graphs and visualise the results."
   ]
  },
  {
   "cell_type": "code",
   "execution_count": 15,
   "metadata": {},
   "outputs": [],
   "source": [
    "def draw(graph):\n",
    "    \"\"\" function for drawing a graph using matplotlib and networkx\"\"\"\n",
    "    \n",
    "    # each graph is already in node_link_graph format \n",
    "    G = nx.json_graph.node_link_graph(graph)\n",
    "    \n",
    "    labels = {node['id']: node['label'] for node in graph['nodes']}\n",
    "    node_colour = ['r' if node['type'] == 'query' else 'b' for node in graph['nodes']]\n",
    "    pos = nx.spring_layout(G)\n",
    "    nx.draw_networkx_nodes(G, pos, node_size=600, node_color=node_colour, alpha=.3)\n",
    "    edgelist = [(e['source'], e['target']) for e in graph['links'] if e['type'] != 'match']\n",
    "    nx.draw_networkx_edges(G, pos, width=3, edgelist=edgelist, edge_color='grey', alpha=.3)\n",
    "    edgelist = [(e['source'], e['target']) for e in graph['links'] if e['type'] == 'match']\n",
    "    nx.draw_networkx_edges(G, pos, width=3, edgelist=edgelist, style='dashed', edge_color='pink')\n",
    "    nx.draw_networkx_labels(G, pos, font_size=12, font_family='sans-serif', labels=labels)"
   ]
  },
  {
   "cell_type": "markdown",
   "metadata": {},
   "source": [
    "Result 1 contains the best match. The three query nodes (in red) best match the three target nodes (in blue). The dashed lines show which pairs of query and target nodes matched each other. The blue nodes are a subgraph of the target graph. Note that the result does not describe the whole target graph because in principle it can be very large.\n",
    "\n",
    "Here we can see that the blue subgraph has exactly the same shape as the red query graph. However, the labels are not exactly the same (e.g. `guardians != Guardians of the Galaxy`) so the result scores less than the maximum score of 1.\n",
    "However, we can see that our query graph is really similar to Groot and Star-Lord from Guardians of the Galaxy.\n",
    "Since this is the best match we know that "
   ]
  },
  {
   "cell_type": "code",
   "execution_count": 16,
   "metadata": {},
   "outputs": [
    {
     "name": "stderr",
     "output_type": "stream",
     "text": [
      "/Users/dstaff/anaconda3/envs/fornax/lib/python3.6/site-packages/networkx/drawing/nx_pylab.py:611: MatplotlibDeprecationWarning: isinstance(..., numbers.Number)\n",
      "  if cb.is_numlike(alpha):\n"
     ]
    },
    {
     "data": {
      "image/png": "[encoded data removed]",
      "text/plain": [
       "<Figure size 432x288 with 1 Axes>"
      ]
     },
     "metadata": {
      "needs_background": "light"
     },
     "output_type": "display_data"
    }
   ],
   "source": [
    "for i, graph in enumerate(results['graphs'][:1]):\n",
    "    plt.title('Result {0}, score: {1:.2f}'.format(1, 1. - graph['cost']))\n",
    "    draw(graph)\n",
    "    plt.xlim(-1.2,1.2)\n",
    "    plt.ylim(-1.2,1.2)\n",
    "    plt.axis('off')\n",
    "    plt.show()"
   ]
  },
  {
   "cell_type": "markdown",
   "metadata": {},
   "source": [
    "Results 2-4 have a lower score because `star` matches to a different node not adjacent to Guardians of the Galaxy. Further inspection would show that `star` has matched aliases of Star-Lord which are near Guardians of the Galaxy but not ajacent to it."
   ]
  },
  {
   "cell_type": "code",
   "execution_count": 17,
   "metadata": {},
   "outputs": [
    {
     "name": "stderr",
     "output_type": "stream",
     "text": [
      "/Users/dstaff/anaconda3/envs/fornax/lib/python3.6/site-packages/networkx/drawing/nx_pylab.py:611: MatplotlibDeprecationWarning: isinstance(..., numbers.Number)\n",
      "  if cb.is_numlike(alpha):\n"
     ]
    },
    {
     "data": {
      "image/png": "[encoded data removed]",
      "text/plain": [
       "<Figure size 432x288 with 1 Axes>"
      ]
     },
     "metadata": {
      "needs_background": "light"
     },
     "output_type": "display_data"
    },
    {
     "data": {
      "image/png": "[encoded data removed]",
      "text/plain": [
       "<Figure size 432x288 with 1 Axes>"
      ]
     },
     "metadata": {
      "needs_background": "light"
     },
     "output_type": "display_data"
    },
    {
     "data": {
      "image/png": "[encoded data removed]",
      "text/plain": [
       "<Figure size 432x288 with 1 Axes>"
      ]
     },
     "metadata": {
      "needs_background": "light"
     },
     "output_type": "display_data"
    }
   ],
   "source": [
    "for i, graph in enumerate(results['graphs'][1:4]):\n",
    "    plt.title('Result {0}, score: {1:.2f}'.format(i+2, 1. - graph['cost']))\n",
    "    draw(graph)\n",
    "    plt.xlim(-1.2,1.2)\n",
    "    plt.ylim(-1.2,1.2)\n",
    "    plt.axis('off')\n",
    "    plt.show()"
   ]
  },
  {
   "cell_type": "markdown",
   "metadata": {},
   "source": [
    "The final match pairs `guardians` and `star` to two nodes that do not have similar edges to the target graph. `groot` is not found in the target graph. The result gets a much lower score than the preceding results and we can be sure that any additional results will also be poor because the result are ordered."
   ]
  },
  {
   "cell_type": "code",
   "execution_count": 18,
   "metadata": {},
   "outputs": [
    {
     "name": "stderr",
     "output_type": "stream",
     "text": [
      "/Users/dstaff/anaconda3/envs/fornax/lib/python3.6/site-packages/networkx/drawing/nx_pylab.py:611: MatplotlibDeprecationWarning: isinstance(..., numbers.Number)\n",
      "  if cb.is_numlike(alpha):\n"
     ]
    },
    {
     "data": {
      "image/png": "[encoded data removed]",
      "text/plain": [
       "<Figure size 432x288 with 1 Axes>"
      ]
     },
     "metadata": {
      "needs_background": "light"
     },
     "output_type": "display_data"
    }
   ],
   "source": [
    "for i, graph in enumerate(results['graphs'][4:]):\n",
    "    plt.title('Result {0}, score: {1:.2f}'.format(i+5, 1. - graph['cost']))\n",
    "    draw(graph)\n",
    "    plt.xlim(-1.2,1.2)\n",
    "    plt.ylim(-1.2,1.2)\n",
    "    plt.axis('off')\n",
    "    plt.show()"
   ]
  }
 ],
 "metadata": {
  "kernelspec": {
   "display_name": "Python 3",
   "language": "python",
   "name": "python3"
  },
  "language_info": {
   "codemirror_mode": {
    "name": "ipython",
    "version": 3
   },
   "file_extension": ".py",
   "mimetype": "text/x-python",
   "name": "python",
   "nbconvert_exporter": "python",
   "pygments_lexer": "ipython3",
   "version": "3.6.5"
  }
 },
 "nbformat": 4,
 "nbformat_minor": 2
}
